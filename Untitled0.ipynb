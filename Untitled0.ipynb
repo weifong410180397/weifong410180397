{
  "nbformat": 4,
  "nbformat_minor": 0,
  "metadata": {
    "colab": {
      "provenance": [],
      "authorship_tag": "ABX9TyPyrwBYwCECGpxRh28elmlc",
      "include_colab_link": true
    },
    "kernelspec": {
      "name": "python3",
      "display_name": "Python 3"
    },
    "language_info": {
      "name": "python"
    }
  },
  "cells": [
    {
      "cell_type": "markdown",
      "metadata": {
        "id": "view-in-github",
        "colab_type": "text"
      },
      "source": [
        "<a href=\"https://colab.research.google.com/github/weifong410180397/weifong410180397/blob/main/Untitled0.ipynb\" target=\"_parent\"><img src=\"https://colab.research.google.com/assets/colab-badge.svg\" alt=\"Open In Colab\"/></a>"
      ]
    },
    {
      "cell_type": "code",
      "execution_count": 1,
      "metadata": {
        "id": "2NsR2VBGzFWw"
      },
      "outputs": [],
      "source": [
        "import pandas as pd"
      ]
    },
    {
      "cell_type": "code",
      "source": [
        "url = \"https://raw.githubusercontent.com/fju155447/fin_data/main/2330.TW.csv\"\n",
        "df = pd.read_csv(url, index_col=0)\n",
        "print(df.head(5))\n"
      ],
      "metadata": {
        "colab": {
          "base_uri": "https://localhost:8080/"
        },
        "id": "hs2E0O9izP7K",
        "outputId": "6ba7943a-b742-47b2-ff98-7ad645764881"
      },
      "execution_count": 5,
      "outputs": [
        {
          "output_type": "stream",
          "name": "stdout",
          "text": [
            "             Open   High    Low  Close   Adj Close    Volume\n",
            "Date                                                        \n",
            "2020-01-02  332.5  339.0  332.5  339.0  308.986359  31754120\n",
            "2020-01-03  344.0  345.0  335.5  339.5  309.442047  41811268\n",
            "2020-01-06  333.0  334.5  332.0  332.0  302.606049  45343057\n",
            "2020-01-07  332.5  333.0  326.5  329.5  300.327393  50879181\n",
            "2020-01-08  325.0  333.0  325.0  329.5  300.327393  37567748\n"
          ]
        }
      ]
    },
    {
      "cell_type": "code",
      "source": [],
      "metadata": {
        "id": "a_DmEKT7z5Vi"
      },
      "execution_count": null,
      "outputs": []
    }
  ]
}