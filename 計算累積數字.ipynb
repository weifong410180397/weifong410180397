{
  "nbformat": 4,
  "nbformat_minor": 0,
  "metadata": {
    "colab": {
      "provenance": [],
      "toc_visible": true,
      "authorship_tag": "ABX9TyP2mqcDKCwCPIuqHkTu8sip",
      "include_colab_link": true
    },
    "kernelspec": {
      "name": "python3",
      "display_name": "Python 3"
    },
    "language_info": {
      "name": "python"
    }
  },
  "cells": [
    {
      "cell_type": "markdown",
      "metadata": {
        "id": "view-in-github",
        "colab_type": "text"
      },
      "source": [
        "<a href=\"https://colab.research.google.com/github/weifong410180397/weifong410180397/blob/main/%E8%A8%88%E7%AE%97%E7%B4%AF%E7%A9%8D%E6%95%B8%E5%AD%97.ipynb\" target=\"_parent\"><img src=\"https://colab.research.google.com/assets/colab-badge.svg\" alt=\"Open In Colab\"/></a>"
      ]
    },
    {
      "cell_type": "code",
      "execution_count": null,
      "metadata": {
        "id": "v4TEv58VljYt"
      },
      "outputs": [],
      "source": []
    },
    {
      "cell_type": "markdown",
      "source": [
        "# 新增區段"
      ],
      "metadata": {
        "id": "mPWkF-1EmRxw"
      }
    },
    {
      "cell_type": "code",
      "source": [
        "Q1 = 28347871\n",
        "Q2 = 27002293\n",
        "Q3 = 27668242\n",
        "Q4 = 26295929"
      ],
      "metadata": {
        "id": "UE3GfbmiluZh"
      },
      "execution_count": null,
      "outputs": []
    },
    {
      "cell_type": "code",
      "source": [
        "Acc_Q1 = Q1\n",
        "Acc_Q2 = Q1 + Q2\n",
        "Acc_Q3 = Q1 + Q2 + Q3\n",
        "Acc_Q4 = Q1 + Q2 + Q3 + Q4"
      ],
      "metadata": {
        "id": "tXdrBQzku5_v"
      },
      "execution_count": null,
      "outputs": []
    },
    {
      "cell_type": "code",
      "source": [
        "print(Acc_Q1)\n",
        "print(Acc_Q2)\n",
        "print(Acc_Q3)\n",
        "print(Acc_Q4)"
      ],
      "metadata": {
        "colab": {
          "base_uri": "https://localhost:8080/"
        },
        "id": "8198iVYTvN0m",
        "outputId": "183766fb-ee61-49fd-97ca-a063f29151b7"
      },
      "execution_count": null,
      "outputs": [
        {
          "output_type": "stream",
          "name": "stdout",
          "text": [
            "28347871\n",
            "55350164\n",
            "83018406\n",
            "109314335\n"
          ]
        }
      ]
    }
  ]
}